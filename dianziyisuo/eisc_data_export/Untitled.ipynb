{
 "cells": [
  {
   "cell_type": "code",
   "execution_count": 1,
   "metadata": {
    "collapsed": true
   },
   "outputs": [],
   "source": [
    "import pymysql"
   ]
  },
  {
   "cell_type": "code",
   "execution_count": 2,
   "metadata": {
    "collapsed": true
   },
   "outputs": [],
   "source": [
    "# 连接远程数据库\n",
    "def connectDatabase( my_host=\"172.16.155.31\", my_username=\"root\", my_keyword=\"eisc15531\", my_database=\"eisc_data\"):\n",
    "\t# 打开数据库连接\n",
    "\tdb = pymysql.connect(my_host, my_username, my_keyword, my_database, charset = \"utf8\")\n",
    "\t# 使用cursor()方法获取操作游标\n",
    "\tcursor = db.cursor()\n",
    "\treturn db, cursor"
   ]
  },
  {
   "cell_type": "code",
   "execution_count": null,
   "metadata": {
    "collapsed": true
   },
   "outputs": [],
   "source": [
    "# 0018-9375/1541-1672/0018-9235/1051-8223/0018-9286/0272-1708/1949-3053/0278-0046/0018-9529/1949-3029\n",
    "# 1045-9219/0090-6778/0093-9994/0885-8950/1540-7985/0885-8993/0018-9456/1057-7122/1057-7130/1089-7798/1943-0620\n",
    "# 1077-2618/0741-3106/0163-6804/1540-7977/0885-8969/0885-8950/1755-4543/1751-8660/1752-1416/2168-67770885-8977/1751-8660/0733-8716\n",
    "# 1673-5447/1751-8628/2162-2337/1229-2370\n",
    "def getDataFromS_sourceByISSN(issn):\n",
    "    sql"
   ]
  }
 ],
 "metadata": {
  "kernelspec": {
   "display_name": "Python 3",
   "language": "python",
   "name": "python3"
  },
  "language_info": {
   "codemirror_mode": {
    "name": "ipython",
    "version": 3
   },
   "file_extension": ".py",
   "mimetype": "text/x-python",
   "name": "python",
   "nbconvert_exporter": "python",
   "pygments_lexer": "ipython3",
   "version": "3.6.2"
  }
 },
 "nbformat": 4,
 "nbformat_minor": 2
}
